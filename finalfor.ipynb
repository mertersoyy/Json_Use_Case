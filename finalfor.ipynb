{
 "cells": [
  {
   "cell_type": "code",
   "execution_count": 86,
   "metadata": {},
   "outputs": [],
   "source": [
    "import json\n",
    "import numpy as np\n",
    "import pandas as pd\n",
    "import psycopg2"
   ]
  },
  {
   "cell_type": "code",
   "execution_count": 87,
   "metadata": {},
   "outputs": [],
   "source": [
    "file_path = 'C:\\\\Users\\\\merte\\\\Desktop\\\\Mert\\CASE\\\\corrupted-file.json'"
   ]
  },
  {
   "cell_type": "code",
   "execution_count": 91,
   "metadata": {},
   "outputs": [],
   "source": [
    "try:\n",
    "    # Read the entire content of the file\n",
    "    raw_string = \"[\"\n",
    "    with open(file_path, 'r') as file:        \n",
    "        for line in file: \n",
    "            raw_string += line\n",
    "        raw_string += \"]\"\n",
    "    # process into json\n",
    "    as_json = json.loads(raw_string)\n",
    "    rows = []  # içinde ne olduğunu bilmediğim için böyle tanımladım.\n",
    "    for arr in as_json:\n",
    "        # get measurements and to through its array # baslıklar dosyadan alındı measurement altından\n",
    "        for values in arr['measurements']:\n",
    "            timestamp = values['ts'] # string olarak aldım diğerleri değişebilir\n",
    "            measurement_name = None\n",
    "            time_series = None\n",
    "            measurement = None\n",
    "    #iç içe iki adet json olduğu için measument altındaki ilk for döngüsünde motorun altındaki başlıkları 2. for döngüsünde inceledik.\n",
    "            for key in values['series'].keys():\n",
    "                if key == '$_time':\n",
    "                    time_series = values['series']['$_time']\n",
    "                else:\n",
    "                    measurement = values['series'][key]\n",
    "                    measurement_name = key\n",
    "    \n",
    "            row = pd.DataFrame({\n",
    "                \"title\":measurement_name,\n",
    "                \"timestamp\":timestamp,\n",
    "                \"time_series\":time_series,\n",
    "                \"measurements\":measurement\n",
    "            })\n",
    "            rows.append(row)\n",
    "\n",
    "    #merge them all together\n",
    "    df = pd.concat(rows)\n",
    "\n",
    "except Exception as e:\n",
    "    print(f\"An error occurred: {e}\")"
   ]
  },
  {
   "cell_type": "code",
   "execution_count": 89,
   "metadata": {},
   "outputs": [],
   "source": [
    "df.to_json(\"flattened_measurements.json\", orient='records')\n",
    "df.to_csv(\"flattened_data.csv\", index=False)  # CSV olarak kaydet"
   ]
  },
  {
   "cell_type": "code",
   "execution_count": 90,
   "metadata": {},
   "outputs": [
    {
     "name": "stdout",
     "output_type": "stream",
     "text": [
      "Columns in the flattened DataFrame:\n",
      "                              title                 timestamp  time_series  \\\n",
      "0  FrontPress3_Motor_Vibration.ab-1  2021-02-02T00:59:49.371Z            0   \n",
      "1  FrontPress3_Motor_Vibration.ab-1  2021-02-02T00:59:49.371Z          101   \n",
      "2  FrontPress3_Motor_Vibration.ab-1  2021-02-02T00:59:49.371Z          201   \n",
      "3  FrontPress3_Motor_Vibration.ab-1  2021-02-02T00:59:49.371Z          301   \n",
      "4  FrontPress3_Motor_Vibration.ab-1  2021-02-02T00:59:49.371Z          402   \n",
      "\n",
      "   measurements  \n",
      "0      0.434028  \n",
      "1      0.438549  \n",
      "2      0.434028  \n",
      "3      0.434028  \n",
      "4      0.432219  \n"
     ]
    }
   ],
   "source": [
    "print(\"Columns in the flattened DataFrame:\")\n",
    "print(df.head())"
   ]
  },
  {
   "cell_type": "code",
   "execution_count": 83,
   "metadata": {},
   "outputs": [],
   "source": [
    "parsed_json = json.loads(df.to_json(orient='records'))"
   ]
  },
  {
   "cell_type": "code",
   "execution_count": 85,
   "metadata": {},
   "outputs": [
    {
     "name": "stdout",
     "output_type": "stream",
     "text": [
      "Connection successful\n"
     ]
    }
   ],
   "source": [
    "connection = psycopg2.connect (\n",
    "    host = \"localhost\",\n",
    "    database = \"data\",\n",
    "    user = \"postgres\",\n",
    "    password =\"409898\"\n",
    "    )\n",
    "\n",
    "print(\"Connection successful\")\n",
    "\n",
    "\n",
    "cur = connection.cursor()\n",
    "cur.execute(\"CREATE TABLE data(title TEXT, timestamp TEXT, time_series TEXT,measurements TEXT)\")\n",
    "\n",
    "#data_tuple = (df.to_json[0]('title'), df.to_json[0]('timestamp'), df.to_json[0]('time_series'), df.to_json[0]('measurements'))\n",
    "\n",
    "for record in parsed_json:\n",
    "    data_tuple = (record['title'], record['timestamp'], json.dumps(record['time_series']), json.dumps(record['measurements'])) # jsonda olan biçim farkını string e çevirmek için json.dumps kullanılır.\n",
    "    cur.execute(\"INSERT INTO data(title, timestamp, time_series, measurements) VALUES (%s, %s, %s, %s)\", data_tuple)\n",
    "\n",
    "#cur.execute(\"INSERT INTO data(title, timestamp, time_series, measurements) VALUES (%s, %s, %s, %s)\", data_tuple)\n",
    "#cur.execute(\"INSERT INTO data(title, timestamp, time_series, measurements) VALUES (%s,%s,%s,%s)\", (df.to_json(orient='records'), ),(df.to_json(orient='records'), ),(df.to_json(orient='records'), ),(df.to_json(orient='records'), ))\n",
    "\n",
    "connection.commit()\n",
    "\n",
    "\n",
    "connection.close()\n"
   ]
  }
 ],
 "metadata": {
  "kernelspec": {
   "display_name": "Python 3 (ipykernel)",
   "language": "python",
   "name": "python3"
  },
  "language_info": {
   "codemirror_mode": {
    "name": "ipython",
    "version": 3
   },
   "file_extension": ".py",
   "mimetype": "text/x-python",
   "name": "python",
   "nbconvert_exporter": "python",
   "pygments_lexer": "ipython3",
   "version": "3.10.2"
  }
 },
 "nbformat": 4,
 "nbformat_minor": 4
}
